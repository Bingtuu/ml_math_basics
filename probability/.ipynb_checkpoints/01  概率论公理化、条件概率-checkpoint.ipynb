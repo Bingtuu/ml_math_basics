{
 "cells": [
  {
   "cell_type": "markdown",
   "metadata": {
    "toc": true
   },
   "source": [
    "<h1>Table of Contents<span class=\"tocSkip\"></span></h1>\n",
    "<div class=\"toc\"><ul class=\"toc-item\"><li><span><a href=\"#多项式系数\" data-toc-modified-id=\"多项式系数-1\"><span class=\"toc-item-num\">1&nbsp;&nbsp;</span>多项式系数</a></span></li><li><span><a href=\"#概率论公理化\" data-toc-modified-id=\"概率论公理化-2\"><span class=\"toc-item-num\">2&nbsp;&nbsp;</span>概率论公理化</a></span></li><li><span><a href=\"#条件概率\" data-toc-modified-id=\"条件概率-3\"><span class=\"toc-item-num\">3&nbsp;&nbsp;</span>条件概率</a></span></li><li><span><a href=\"#贝叶斯公式\" data-toc-modified-id=\"贝叶斯公式-4\"><span class=\"toc-item-num\">4&nbsp;&nbsp;</span>贝叶斯公式</a></span></li></ul></div>"
   ]
  },
  {
   "cell_type": "markdown",
   "metadata": {},
   "source": [
    "#### 多项式系数"
   ]
  },
  {
   "cell_type": "markdown",
   "metadata": {},
   "source": [
    "有 $n$ 个不同元素，分成 $r$ 组，每组分别有 $n_1, n_2, \\cdots, n_r$ 个元素，其中 $n_1 + n_2 + \\cdots + n_r = n$ ,则一共有 $${n \\choose n_1} {n-n_1 \\choose n_2} \\cdots {n-n_1-n_2-\\cdots-n_{r-1} \\choose n_r}$$\n",
    "$$=\\frac{n!}{(n-n_1)!n_1!} \\cdot \\frac{n-n_1}{(n-n_1-n_2)!n_2!}\\cdots \\cdot \\frac{(n-n_1-n_2-\\cdots-n_{r-1})!}{(0)!n_r!}$$\n",
    "$$=\\frac{n!}{n_1!n_2!\\cdots n_r!}$$"
   ]
  },
  {
   "cell_type": "markdown",
   "metadata": {},
   "source": [
    "#### 概率论公理化"
   ]
  },
  {
   "cell_type": "markdown",
   "metadata": {},
   "source": [
    "#### 条件概率"
   ]
  },
  {
   "cell_type": "markdown",
   "metadata": {},
   "source": [
    "#### 贝叶斯公式"
   ]
  },
  {
   "cell_type": "code",
   "execution_count": null,
   "metadata": {},
   "outputs": [],
   "source": []
  }
 ],
 "metadata": {
  "kernelspec": {
   "display_name": "Python 3",
   "language": "python",
   "name": "python3"
  },
  "language_info": {
   "codemirror_mode": {
    "name": "ipython",
    "version": 3
   },
   "file_extension": ".py",
   "mimetype": "text/x-python",
   "name": "python",
   "nbconvert_exporter": "python",
   "pygments_lexer": "ipython3",
   "version": "3.7.2"
  },
  "toc": {
   "base_numbering": 1,
   "nav_menu": {},
   "number_sections": true,
   "sideBar": true,
   "skip_h1_title": true,
   "title_cell": "Table of Contents",
   "title_sidebar": "Contents",
   "toc_cell": true,
   "toc_position": {},
   "toc_section_display": true,
   "toc_window_display": true
  }
 },
 "nbformat": 4,
 "nbformat_minor": 4
}
