{
 "cells": [
  {
   "cell_type": "markdown",
   "metadata": {
    "toc": true
   },
   "source": [
    "<h1>Table of Contents<span class=\"tocSkip\"></span></h1>\n",
    "<div class=\"toc\"><ul class=\"toc-item\"><li><span><a href=\"#导数计算\" data-toc-modified-id=\"导数计算-1\"><span class=\"toc-item-num\">1&nbsp;&nbsp;</span>导数计算</a></span></li></ul></div>"
   ]
  },
  {
   "cell_type": "markdown",
   "metadata": {},
   "source": [
    "#### 导数计算"
   ]
  },
  {
   "cell_type": "markdown",
   "metadata": {},
   "source": [
    "> $y = \\arctan x, x \\in [-1, 1], y \\in [0, \\pi]$，求 $y^{\\prime}$. \n",
    "\n",
    "$$y = \\arctan x \\Rightarrow x = \\tan y \\Rightarrow y^{\\prime}(\\tan y)^{\\prime} = 1$$ \n",
    "$$\\because\\;\\;\\;\\; (\\tan x)^{\\prime} = (\\frac{\\sin x}{\\cos x})^{\\prime} = \\frac{\\cos x \\cdot \\cos x - (-\\sin x) \\cdot \\sin x}{(\\cos x)^2} = 1 + (\\tan x)^2$$\n",
    "$$\\therefore \\;\\;\\;\\; y^{\\prime}(\\tan y)^{\\prime} = 1 \\Rightarrow y^{\\prime}(1 + \\tan^2 y) = 1 \\Rightarrow y^{\\prime} = \\frac{1}{1 + \\tan^2 y} = \\frac{1}{1 + x^2}$$"
   ]
  },
  {
   "cell_type": "markdown",
   "metadata": {},
   "source": [
    "   > 求 $1/(a + bx)$ 在 $x=0$ 和 $x=1$ 附近的二次近似（quadratic approximation）。\n",
    "   \n",
    "二次近似，即 $f(x) = f(a) + f^{\\prime}(a)f(x-a) + \\frac{f^{\\prime \\prime}(a)}{2}(x-a)^2$，第一部分的线性近似可以由导数的定义得到（即 $x$ 趋近于 $a$ 时的导数），更高次幂的近似多项式则需要使用泰勒展开。  \n"
   ]
  },
  {
   "cell_type": "code",
   "execution_count": null,
   "metadata": {
    "collapsed": true
   },
   "outputs": [],
   "source": []
  }
 ],
 "metadata": {
  "kernelspec": {
   "display_name": "Python 3",
   "language": "python",
   "name": "python3"
  },
  "language_info": {
   "codemirror_mode": {
    "name": "ipython",
    "version": 3
   },
   "file_extension": ".py",
   "mimetype": "text/x-python",
   "name": "python",
   "nbconvert_exporter": "python",
   "pygments_lexer": "ipython3",
   "version": "3.7.2"
  },
  "toc": {
   "base_numbering": 1,
   "nav_menu": {},
   "number_sections": true,
   "sideBar": true,
   "skip_h1_title": true,
   "title_cell": "Table of Contents",
   "title_sidebar": "Contents",
   "toc_cell": true,
   "toc_position": {},
   "toc_section_display": true,
   "toc_window_display": true
  }
 },
 "nbformat": 4,
 "nbformat_minor": 2
}
